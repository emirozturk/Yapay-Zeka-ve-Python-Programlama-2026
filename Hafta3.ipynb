{
 "cells": [
  {
   "cell_type": "code",
   "execution_count": null,
   "id": "177366d7",
   "metadata": {},
   "outputs": [],
   "source": [
    "print(\"1\")\n",
    "print(\"2\")\n",
    "print(\"3\")\n",
    "print(\"4\")"
   ]
  },
  {
   "cell_type": "code",
   "execution_count": null,
   "id": "24fc54dc",
   "metadata": {},
   "outputs": [],
   "source": [
    "print(list(range(0,10,1)))"
   ]
  },
  {
   "cell_type": "code",
   "execution_count": null,
   "id": "531f6052",
   "metadata": {},
   "outputs": [],
   "source": [
    "print(list(range(10)))"
   ]
  },
  {
   "cell_type": "code",
   "execution_count": null,
   "id": "6a580140",
   "metadata": {},
   "outputs": [],
   "source": [
    "print(list(range(5,10)))"
   ]
  },
  {
   "cell_type": "code",
   "execution_count": null,
   "id": "9522c091",
   "metadata": {},
   "outputs": [],
   "source": [
    "liste = [2,4,6,8,10]\n",
    "for i in liste:\n",
    "    print(i)"
   ]
  },
  {
   "cell_type": "code",
   "execution_count": null,
   "id": "e6baaa03",
   "metadata": {},
   "outputs": [],
   "source": [
    "for i in range(2,11,2):\n",
    "    print(i)"
   ]
  },
  {
   "cell_type": "markdown",
   "id": "7683b18c",
   "metadata": {},
   "source": [
    "1-100 arası tek sayıları gösteren uygulama"
   ]
  },
  {
   "cell_type": "code",
   "execution_count": null,
   "id": "33c2d92e",
   "metadata": {},
   "outputs": [],
   "source": [
    "for i in range(1,100,2):\n",
    "    print(i,end=\" \")"
   ]
  },
  {
   "cell_type": "code",
   "execution_count": null,
   "id": "84cc83a7",
   "metadata": {},
   "outputs": [],
   "source": [
    "for i in range(1,100):\n",
    "    if i % 2 == 0:\n",
    "        pass\n",
    "    else:\n",
    "        print(i,end=\" \")"
   ]
  },
  {
   "cell_type": "markdown",
   "id": "08af61d4",
   "metadata": {},
   "source": [
    "1-1000 arası sayıların toplamını gösteren uygulama"
   ]
  },
  {
   "cell_type": "code",
   "execution_count": null,
   "id": "c39c71a4",
   "metadata": {},
   "outputs": [],
   "source": [
    "toplam = 0\n",
    "for i in range(1001):   #bir döngü (i) kurmam lazım 1 ile 1000 arasında olması lazım, 1000in dahil olması lazım\n",
    "    toplam += i     #her gelen sayıyı toplamın üzerine ekle\n",
    "print(f\"Toplam:{toplam}\")#Toplam değerini ekrana göster"
   ]
  },
  {
   "cell_type": "markdown",
   "id": "9234042d",
   "metadata": {},
   "source": [
    "Faktoriyel hesabı yapan uygulama"
   ]
  },
  {
   "cell_type": "code",
   "execution_count": null,
   "id": "9e2d5b4b",
   "metadata": {},
   "outputs": [],
   "source": [
    "n = 7\n",
    "carpim = 1\n",
    "for i in range(1,n+1): \n",
    "    carpim *= i    \n",
    "print(f\"Faktoriyel:{carpim}\")"
   ]
  },
  {
   "cell_type": "code",
   "execution_count": null,
   "id": "b3be27be",
   "metadata": {},
   "outputs": [],
   "source": [
    "n = 7\n",
    "carpim = 1\n",
    "for i in range(n,0,-1):\n",
    "    carpim *=i\n",
    "print(f\"Faktoriyel:{carpim}\")"
   ]
  },
  {
   "cell_type": "code",
   "execution_count": null,
   "id": "82b6fbde",
   "metadata": {},
   "outputs": [],
   "source": [
    "import math\n",
    "print(math.factorial(7))"
   ]
  },
  {
   "cell_type": "markdown",
   "id": "d7c883da",
   "metadata": {},
   "source": [
    "Sonsuz döngü"
   ]
  },
  {
   "cell_type": "code",
   "execution_count": null,
   "id": "e9f918e7",
   "metadata": {},
   "outputs": [],
   "source": [
    "a = 0\n",
    "while a < 10:\n",
    "    a = 1\n",
    "print(a)"
   ]
  },
  {
   "cell_type": "code",
   "execution_count": null,
   "id": "63ccd7bc",
   "metadata": {},
   "outputs": [],
   "source": [
    "while True:\n",
    "    pass"
   ]
  },
  {
   "cell_type": "code",
   "execution_count": null,
   "id": "56d426fb",
   "metadata": {},
   "outputs": [],
   "source": [
    "a = 0\n",
    "while True:\n",
    "    a=a+1\n",
    "    if a == 10:\n",
    "        break\n",
    "print(a)"
   ]
  },
  {
   "cell_type": "code",
   "execution_count": null,
   "id": "570ca8ba",
   "metadata": {},
   "outputs": [],
   "source": [
    "a=0\n",
    "b=0\n",
    "while a<3:\n",
    "    print(\"Dış döngü\")\n",
    "    while True:\n",
    "        b+=1\n",
    "        if b == 10:\n",
    "            b=0\n",
    "            break\n",
    "    a+=1\n",
    "print(a)\n",
    "print(b)"
   ]
  },
  {
   "cell_type": "code",
   "execution_count": null,
   "id": "68ab9af5",
   "metadata": {},
   "outputs": [],
   "source": [
    "a = 0\n",
    "while a<10:\n",
    "    a+=1\n",
    "    if a%2 == 0:\n",
    "        continue\n",
    "    print(a)"
   ]
  },
  {
   "cell_type": "code",
   "execution_count": null,
   "id": "0f633797",
   "metadata": {},
   "outputs": [],
   "source": [
    "if a == 0:\n",
    "    pass\n",
    "else:\n",
    "    print(a)\n",
    "def fonk():\n",
    "    pass\n"
   ]
  },
  {
   "cell_type": "markdown",
   "id": "1181316a",
   "metadata": {},
   "source": [
    "Ekrandan -1 girilene kadar alınan tüm değerlerin toplamını ekrana gösteren program."
   ]
  },
  {
   "cell_type": "code",
   "execution_count": null,
   "id": "c1a4072e",
   "metadata": {},
   "outputs": [],
   "source": [
    "sayi = 0                                #sayı tanımla\n",
    "toplam = 0                              #toplam değişkeni aç\n",
    "while sayi != -1:                       #girilen sayı -1'den farklı olduğu sürece\n",
    "    sayi = int(input(\"Sayı giriniz\"))   #Ekrandan bir sayı al\n",
    "    if sayi == -1:                      #Eğer sayı -1'se\n",
    "        print(toplam)                   #Bu zamana kadar olan sayıların toplamını göster\n",
    "        break\n",
    "    else:                               #Değilse\n",
    "        toplam = toplam + sayi          #girilen sayıyı toplama ekle\n",
    "        print(f\"Şu ana kadarki toplam {toplam}\")"
   ]
  },
  {
   "cell_type": "markdown",
   "id": "6386a44f",
   "metadata": {},
   "source": [
    "Ekrandan girilen bir metnin içerisindeki e harflerini çıkartarak ekrana gösteren uygulama"
   ]
  },
  {
   "cell_type": "code",
   "execution_count": null,
   "id": "767c95f2",
   "metadata": {},
   "outputs": [],
   "source": [
    "metin = input(\"Cümle giriniz\")                  #metin = ekrandan metni almam lazım\n",
    "print(metin)\n",
    "for karakter in metin:                          #metin içerisinde döngü ile\n",
    "    if karakter != \"e\" and karakter != \"E\":     #Eğer metnin sıradaki elemanı e değilse\n",
    "        print(karakter,end = \"\")                #yazdır\n"
   ]
  },
  {
   "cell_type": "code",
   "execution_count": null,
   "id": "c231da56",
   "metadata": {},
   "outputs": [],
   "source": [
    "metin = input(\"Cümle giriniz\")                  #metin = ekrandan metni almam lazım\n",
    "print(metin)\n",
    "for karakter in metin:                          #metin içerisinde döngü ile\n",
    "    if karakter.lower() != \"e\":                 #Eğer metnin sıradaki elemanı e değilse\n",
    "        print(karakter,end = \"\")                #yazdır\n"
   ]
  },
  {
   "cell_type": "code",
   "execution_count": null,
   "id": "bd912d8e",
   "metadata": {},
   "outputs": [],
   "source": [
    "metin = input(\"Cümle giriniz\")                  #metin = ekrandan metni almam lazım\n",
    "print(metin)\n",
    "metin = metin.replace(\"e\",\"\").replace(\"E\",\"\")\n",
    "print(metin)"
   ]
  },
  {
   "cell_type": "markdown",
   "id": "5e73ea18",
   "metadata": {},
   "source": [
    "Girilen 10 adet sayının en büyüğünü ve en küçüğünü bulan program"
   ]
  },
  {
   "cell_type": "code",
   "execution_count": null,
   "id": "8903eb41",
   "metadata": {},
   "outputs": [],
   "source": [
    "liste = [123,98,11,30,99,3,22,58,34,67,16,39,59]\n",
    "maksimum = liste[0]\n",
    "minimum = liste[0]\n",
    "for eleman in liste:\n",
    "    if eleman > maksimum:\n",
    "        maksimum = eleman\n",
    "    if eleman < minimum:\n",
    "        minimum = eleman\n",
    "print(maksimum,minimum)"
   ]
  },
  {
   "cell_type": "markdown",
   "id": "4e5fca30",
   "metadata": {},
   "source": [
    "Girilen bir sayının asal olup olmadığını kontrol eden program"
   ]
  },
  {
   "cell_type": "code",
   "execution_count": null,
   "id": "b9a1669b",
   "metadata": {},
   "outputs": [],
   "source": [
    "sayi = 27\n",
    "for i in range(2,sayi):\n",
    "    if sayi%i == 0:\n",
    "        print(\"Asal değil\")\n",
    "        break\n",
    "else:\n",
    "    print(\"Asal\")"
   ]
  },
  {
   "cell_type": "code",
   "execution_count": null,
   "id": "44a2790c",
   "metadata": {},
   "outputs": [],
   "source": [
    "sayi = 13\n",
    "asalMi = True\n",
    "\n",
    "for i in range(2,sayi):\n",
    "    if sayi%i == 0:\n",
    "        asalMi = False\n",
    "        break\n",
    "    \n",
    "if asalMi == True:\n",
    "    print(\"Asal\")\n",
    "else:\n",
    "    print(\"Asal Değil\")"
   ]
  },
  {
   "cell_type": "code",
   "execution_count": null,
   "id": "d9301672",
   "metadata": {},
   "outputs": [],
   "source": [
    "sayi = 13\n",
    "asalMi = True\n",
    "\n",
    "for i in range(2,sayi//2):\n",
    "    if sayi%i == 0:\n",
    "        asalMi = False\n",
    "        break\n",
    "    \n",
    "if asalMi:\n",
    "    print(\"Asal\")\n",
    "else:\n",
    "    print(\"Asal Değil\")"
   ]
  },
  {
   "cell_type": "code",
   "execution_count": null,
   "id": "4cb61211",
   "metadata": {},
   "outputs": [],
   "source": [
    "for sayi in range(10,101):\n",
    "    asalMi = True\n",
    "    for i in range(2,sayi//2):\n",
    "        if sayi%i == 0:\n",
    "            asalMi = False\n",
    "            break\n",
    "        \n",
    "    if asalMi:\n",
    "        print(sayi)"
   ]
  },
  {
   "cell_type": "code",
   "execution_count": 75,
   "id": "3d00adcd",
   "metadata": {},
   "outputs": [],
   "source": [
    "def asalMiKontrol(sayi):\n",
    "    for i in range(2,sayi//2):\n",
    "        if sayi%i == 0:\n",
    "            return False        \n",
    "    return True"
   ]
  },
  {
   "cell_type": "code",
   "execution_count": 76,
   "id": "aa597b84",
   "metadata": {},
   "outputs": [
    {
     "name": "stdout",
     "output_type": "stream",
     "text": [
      "11\n",
      "13\n",
      "17\n",
      "19\n",
      "23\n",
      "29\n",
      "31\n",
      "37\n",
      "41\n",
      "43\n",
      "47\n",
      "53\n",
      "59\n",
      "61\n",
      "67\n",
      "71\n",
      "73\n",
      "79\n",
      "83\n",
      "89\n",
      "97\n"
     ]
    }
   ],
   "source": [
    "for sayi in range(10,101):\n",
    "    if asalMiKontrol(sayi):\n",
    "        print(sayi)"
   ]
  }
 ],
 "metadata": {
  "kernelspec": {
   "display_name": "base",
   "language": "python",
   "name": "python3"
  },
  "language_info": {
   "codemirror_mode": {
    "name": "ipython",
    "version": 3
   },
   "file_extension": ".py",
   "mimetype": "text/x-python",
   "name": "python",
   "nbconvert_exporter": "python",
   "pygments_lexer": "ipython3",
   "version": "3.13.7"
  }
 },
 "nbformat": 4,
 "nbformat_minor": 5
}
