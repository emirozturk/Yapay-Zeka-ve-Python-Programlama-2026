{
 "cells": [
  {
   "cell_type": "markdown",
   "id": "4757c76a",
   "metadata": {},
   "source": [
    "Bu satırda ilk değişkeni tanımlıyorum."
   ]
  },
  {
   "cell_type": "code",
   "execution_count": 2,
   "id": "ad780d18",
   "metadata": {},
   "outputs": [],
   "source": [
    "degisken = 10"
   ]
  },
  {
   "cell_type": "markdown",
   "id": "86b38e7a",
   "metadata": {},
   "source": [
    "Bu satırda da ekrana yazdırma işlemi yapıyorum."
   ]
  },
  {
   "cell_type": "code",
   "execution_count": null,
   "id": "e87371d5",
   "metadata": {},
   "outputs": [
    {
     "name": "stdout",
     "output_type": "stream",
     "text": [
      "10\n"
     ]
    }
   ],
   "source": [
    "print(degisken)"
   ]
  },
  {
   "cell_type": "markdown",
   "id": "f448fa8a",
   "metadata": {},
   "source": [
    "Döngü kurduk"
   ]
  },
  {
   "cell_type": "code",
   "execution_count": 7,
   "id": "18e4d349",
   "metadata": {},
   "outputs": [
    {
     "name": "stdout",
     "output_type": "stream",
     "text": [
      "0,1,2,3,4,5,6,7,8,9,"
     ]
    }
   ],
   "source": [
    "for i in range(10):\n",
    "    print(i, end=\",\")"
   ]
  },
  {
   "cell_type": "code",
   "execution_count": null,
   "id": "879cc13f",
   "metadata": {},
   "outputs": [],
   "source": [
    "for i in range(5):\n",
    "    print(i)\n",
    "    if i == 3:\n",
    "        break"
   ]
  },
  {
   "cell_type": "code",
   "execution_count": null,
   "id": "37cc522e",
   "metadata": {},
   "outputs": [],
   "source": [
    "for num in range(2, 1001):\n",
    "    is_prime = True\n",
    "    for i in range(2, int(num ** 0.5) + 1):\n",
    "        if num % i == 0:\n",
    "            is_prime = False\n",
    "            break\n",
    "    if is_prime:\n",
    "        print(num, end=\", \")"
   ]
  }
 ],
 "metadata": {
  "kernelspec": {
   "display_name": "base",
   "language": "python",
   "name": "python3"
  },
  "language_info": {
   "codemirror_mode": {
    "name": "ipython",
    "version": 3
   },
   "file_extension": ".py",
   "mimetype": "text/x-python",
   "name": "python",
   "nbconvert_exporter": "python",
   "pygments_lexer": "ipython3",
   "version": "3.13.7"
  }
 },
 "nbformat": 4,
 "nbformat_minor": 5
}
