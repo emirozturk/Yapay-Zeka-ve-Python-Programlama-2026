{
 "cells": [
  {
   "cell_type": "markdown",
   "id": "4757c76a",
   "metadata": {},
   "source": [
    "Bu satırda ilk değişkeni tanımlıyorum."
   ]
  },
  {
   "cell_type": "code",
   "execution_count": 2,
   "id": "ad780d18",
   "metadata": {},
   "outputs": [],
   "source": [
    "degisken = 10"
   ]
  },
  {
   "cell_type": "markdown",
   "id": "86b38e7a",
   "metadata": {},
   "source": [
    "Bu satırda da ekrana yazdırma işlemi yapıyorum."
   ]
  },
  {
   "cell_type": "code",
   "execution_count": 3,
   "id": "e87371d5",
   "metadata": {},
   "outputs": [
    {
     "name": "stdout",
     "output_type": "stream",
     "text": [
      "10\n"
     ]
    }
   ],
   "source": [
    "print(degisken)"
   ]
  },
  {
   "cell_type": "markdown",
   "id": "f448fa8a",
   "metadata": {},
   "source": [
    "Döngü kurduk"
   ]
  },
  {
   "cell_type": "code",
   "execution_count": 5,
   "id": "18e4d349",
   "metadata": {},
   "outputs": [
    {
     "name": "stdout",
     "output_type": "stream",
     "text": [
      "0,1,2,3,4,5,6,7,8,9,"
     ]
    }
   ],
   "source": [
    "for i in range(10):\n",
    "    print(i,end=\",\")\n"
   ]
  }
 ],
 "metadata": {
  "kernelspec": {
   "display_name": "base",
   "language": "python",
   "name": "python3"
  },
  "language_info": {
   "codemirror_mode": {
    "name": "ipython",
    "version": 3
   },
   "file_extension": ".py",
   "mimetype": "text/x-python",
   "name": "python",
   "nbconvert_exporter": "python",
   "pygments_lexer": "ipython3",
   "version": "3.13.7"
  }
 },
 "nbformat": 4,
 "nbformat_minor": 5
}
