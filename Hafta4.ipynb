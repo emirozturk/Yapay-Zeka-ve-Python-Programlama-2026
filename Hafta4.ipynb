{
 "cells": [
  {
   "cell_type": "markdown",
   "id": "5257f107",
   "metadata": {},
   "source": [
    "Girilen sayının tek veya çift olduğunu tespit eden program"
   ]
  },
  {
   "cell_type": "code",
   "execution_count": null,
   "id": "76c9c702",
   "metadata": {},
   "outputs": [],
   "source": [
    "#sayı = Sayı almamız lazım\n",
    "#mod değeri = sayı mod 2\n",
    "#Eğer mod 0sa \n",
    "#   çift\n",
    "#Değilse\n",
    "#   tek\n",
    "sayi = int(input(\"Ekrandan bir sayı giriniz\"))  \n",
    "mod_degeri = sayi % 2\n",
    "if mod_degeri == 0:\n",
    "    print(\"Çift\")\n",
    "else:\n",
    "    print(\"Tek\")"
   ]
  },
  {
   "cell_type": "markdown",
   "id": "1dcb99ef",
   "metadata": {},
   "source": [
    "Bir sayının mutlak değerini alıp ekrana gösteren program"
   ]
  },
  {
   "cell_type": "code",
   "execution_count": null,
   "id": "3873df7d",
   "metadata": {},
   "outputs": [],
   "source": [
    "sayi = int(input(\"Ekrandan bir sayı giriniz\"))  \n",
    "if sayi<0:#Eğer 0'dan küçükse\n",
    "    sayi *= -1 #-1 ile çarparız\n",
    "    print(sayi)\n",
    "else:#Değilse\n",
    "    print(sayi)#aynen yazdır"
   ]
  },
  {
   "cell_type": "code",
   "execution_count": null,
   "id": "25d51679",
   "metadata": {},
   "outputs": [],
   "source": [
    "sayi = int(input(\"Ekrandan bir sayı giriniz\"))  \n",
    "if sayi<0:#Eğer 0'dan küçükse\n",
    "    sayi *= -1 #-1 ile çarparız\n",
    "print(sayi)"
   ]
  },
  {
   "cell_type": "markdown",
   "id": "62636b54",
   "metadata": {},
   "source": [
    "BMI hesabı yapan program"
   ]
  },
  {
   "cell_type": "code",
   "execution_count": null,
   "id": "82b4cedb",
   "metadata": {},
   "outputs": [],
   "source": [
    "boy = float(input(\"Boy giriniz (m)\"))#boy almam lazım (m)\n",
    "kilo = float(input(\"Kilo giriniz\"))#kilo almam lazım (kg)\n",
    "bmi = kilo / pow(boy,2)  #bmi kilo / boy ^ 2\n",
    "print(bmi)\n",
    "if bmi < 18.5:              #Eğer bmi < 18.5\n",
    "    print(\"Düşük\")          #Düşük kilo\n",
    "if bmi >= 18.5 and bmi < 25: #Değil de bmi < 25\n",
    "    print(\"Normal\")         #Normal\n",
    "if bmi >= 25 and bmi < 30:   #Değil de bmi < 30\n",
    "    print(\"Yüksek\")         #Yüksek kilo\n",
    "else:                       #Değilse\n",
    "    print(\"...\")            #Çok yüksek\n"
   ]
  },
  {
   "cell_type": "code",
   "execution_count": null,
   "id": "71042dbe",
   "metadata": {},
   "outputs": [],
   "source": [
    "boy = float(input(\"Boy giriniz (m)\"))#boy almam lazım (m)\n",
    "kilo = float(input(\"Kilo giriniz\"))#kilo almam lazım (kg)\n",
    "bmi = kilo / pow(boy,2)  #bmi kilo / boy ^ 2\n",
    "print(bmi)\n",
    "if bmi < 18.5:              #Eğer bmi < 18.5\n",
    "    print(\"Düşük\")          #Düşük kilo\n",
    "elif bmi < 25:              #Değil de bmi < 25\n",
    "    print(\"Normal\")         #Normal\n",
    "elif bmi < 30:              #Değil de bmi < 30\n",
    "    print(\"Yüksek\")         #Yüksek kilo\n",
    "else:                       #Değilse\n",
    "    print(\"...\")            #Çok yüksek"
   ]
  },
  {
   "cell_type": "markdown",
   "id": "3a5a432c",
   "metadata": {},
   "source": [
    "Bir mağaza için sipariş tutarı ve kg değerleri ekrandan girilecek ve kg başına 1 tl kargo ücreti fiyata eklenip gösterilecektir. Bu tutar kargo hariç 100 TL’nin üstündeyse kargo ücreti hesaplanmayacaktır.  Ayrıca tutar 200 TL’nin üzerinde ise toplam fiyata %10 indirim uygulanacaktır. "
   ]
  },
  {
   "cell_type": "code",
   "execution_count": 22,
   "id": "b89f10ac",
   "metadata": {},
   "outputs": [
    {
     "name": "stdout",
     "output_type": "stream",
     "text": [
      "261.0\n"
     ]
    }
   ],
   "source": [
    "siparis_tutari = float(input(\"Sipariş tutarı\"))\n",
    "kilogram = float(input(\"Kilogram\"))\n",
    "if siparis_tutari<100:                  #Eğer sipariş tutarı 100'den küçükse\n",
    "    siparis_tutari += kilogram          #kg başına kargo ücreti hesapla sipariş tutarına ekle\n",
    "\n",
    "if siparis_tutari > 200:                #Eğer toplam 200'den büyükse\n",
    "    siparis_tutari *= 0.9               #sipariş tutarı üzerine %10 indirim uygula\n",
    "    \n",
    "print(siparis_tutari)                   #Toplam tutarı göster"
   ]
  },
  {
   "cell_type": "code",
   "execution_count": null,
   "id": "2f22951a",
   "metadata": {},
   "outputs": [
    {
     "name": "stdout",
     "output_type": "stream",
     "text": [
      "[]\n",
      "[1, 2, 3, 4, 5]\n",
      "[range(0, 10), 20, 30]\n",
      "[0, 1, 2, 3, 4, 5, 6, 7, 8, 9]\n",
      "[0, 2, 4, 6, 8, 10, 12, 14, 16, 18]\n",
      "[0, 2, 4, 6, 8, 10, 12, 14, 16, 18]\n"
     ]
    }
   ],
   "source": [
    "liste = []\n",
    "print(liste)\n",
    "liste = [1,2,3,4,5]\n",
    "print(liste)\n",
    "\n",
    "liste = [range(10),20,30]\n",
    "print(liste)\n",
    "\n",
    "liste = list(range(10))\n",
    "print(liste)\n",
    "\n",
    "liste = [i*2 for i in range(10)]\n",
    "print(liste)\n",
    "\n",
    "liste = []\n",
    "for i in range(10):\n",
    "    liste.append(i*2)\n",
    "print(liste)\n"
   ]
  },
  {
   "cell_type": "code",
   "execution_count": 33,
   "id": "3511dd85",
   "metadata": {},
   "outputs": [
    {
     "name": "stdout",
     "output_type": "stream",
     "text": [
      "40\n",
      "[10, 20, 30, 70, 50, 60, 70, 80, 90, 100]\n"
     ]
    }
   ],
   "source": [
    "liste = [10,20,30,40,50,60,70,80,90,100]\n",
    "print(liste[3])\n",
    "liste[3] = 70\n",
    "print(liste)"
   ]
  },
  {
   "cell_type": "code",
   "execution_count": 34,
   "id": "dacc601f",
   "metadata": {},
   "outputs": [
    {
     "name": "stdout",
     "output_type": "stream",
     "text": [
      "6\n"
     ]
    }
   ],
   "source": [
    "liste = [1,2,3,4,5,6,7,8,9,10]\n",
    "indis = 5\n",
    "print(liste[indis])"
   ]
  },
  {
   "cell_type": "code",
   "execution_count": 54,
   "id": "69aa1b3d",
   "metadata": {},
   "outputs": [
    {
     "name": "stdout",
     "output_type": "stream",
     "text": [
      "[1, 2, 3, 4, 5, 26, 7, 8, 9, 10]\n"
     ]
    }
   ],
   "source": [
    "liste[indis] = liste[indis] + 1\n",
    "print(liste)"
   ]
  },
  {
   "cell_type": "code",
   "execution_count": 55,
   "id": "6065e002",
   "metadata": {},
   "outputs": [
    {
     "name": "stdout",
     "output_type": "stream",
     "text": [
      "[1, 2, 3, 4, 5, 26, 9, 8, 9, 10]\n"
     ]
    }
   ],
   "source": [
    "liste[indis+1]+= 2\n",
    "print(liste)"
   ]
  },
  {
   "cell_type": "code",
   "execution_count": 56,
   "id": "659694c8",
   "metadata": {},
   "outputs": [
    {
     "name": "stdout",
     "output_type": "stream",
     "text": [
      "[2, 3]\n"
     ]
    }
   ],
   "source": [
    "liste = [1,2,3,4,5,6,7,8,9,10]\n",
    "print(liste[1:3])"
   ]
  },
  {
   "cell_type": "code",
   "execution_count": 57,
   "id": "5a93bbc2",
   "metadata": {},
   "outputs": [
    {
     "name": "stdout",
     "output_type": "stream",
     "text": [
      "[2, 4, 6, 8]\n"
     ]
    }
   ],
   "source": [
    "print(liste[1:8:2])"
   ]
  },
  {
   "cell_type": "code",
   "execution_count": 58,
   "id": "2f7f453f",
   "metadata": {},
   "outputs": [
    {
     "name": "stdout",
     "output_type": "stream",
     "text": [
      "[5, 4, 3, 2]\n"
     ]
    }
   ],
   "source": [
    "print(liste[4:0:-1])"
   ]
  },
  {
   "cell_type": "code",
   "execution_count": null,
   "id": "dbf29597",
   "metadata": {},
   "outputs": [
    {
     "name": "stdout",
     "output_type": "stream",
     "text": [
      "[1, 2, 3, 4]\n"
     ]
    }
   ],
   "source": [
    "print(liste[:4])"
   ]
  },
  {
   "cell_type": "code",
   "execution_count": null,
   "id": "56e19894",
   "metadata": {},
   "outputs": [],
   "source": [
    "print(liste[7:])"
   ]
  },
  {
   "cell_type": "code",
   "execution_count": 61,
   "id": "b99eec37",
   "metadata": {},
   "outputs": [
    {
     "name": "stdout",
     "output_type": "stream",
     "text": [
      "[1, 2, 3, 4, 5, 6, 7, 8, 9, 10, 5]\n"
     ]
    }
   ],
   "source": [
    "liste = [1,2,3,4,5,6,7,8,9,10]\n",
    "liste += [5]\n",
    "print(liste)"
   ]
  },
  {
   "cell_type": "code",
   "execution_count": 62,
   "id": "f3845b08",
   "metadata": {},
   "outputs": [
    {
     "name": "stdout",
     "output_type": "stream",
     "text": [
      "[1, 2, 3, 4, 5, 6, 7, 8, 9, 10, 5, 5, 7, 8]\n"
     ]
    }
   ],
   "source": [
    "liste = [1,2,3,4,5,6,7,8,9,10]\n",
    "liste += [5,5,7,8]\n",
    "print(liste)"
   ]
  },
  {
   "cell_type": "code",
   "execution_count": 63,
   "id": "b1c1522f",
   "metadata": {},
   "outputs": [
    {
     "name": "stdout",
     "output_type": "stream",
     "text": [
      "[1, 2, 3, 4, 5, 6, 7, 8, 9, 10, 5]\n"
     ]
    }
   ],
   "source": [
    "liste = [1,2,3,4,5,6,7,8,9,10]\n",
    "liste.append(5)\n",
    "print(liste)"
   ]
  },
  {
   "cell_type": "code",
   "execution_count": 64,
   "id": "8f391d4f",
   "metadata": {},
   "outputs": [
    {
     "name": "stdout",
     "output_type": "stream",
     "text": [
      "[1, 2, 3, 5, 4, 5, 6, 7, 8, 9, 10]\n"
     ]
    }
   ],
   "source": [
    "liste = [1,2,3,4,5,6,7,8,9,10]\n",
    "liste.insert(3,5)\n",
    "print(liste)"
   ]
  },
  {
   "cell_type": "code",
   "execution_count": 74,
   "id": "4d3f3b6e",
   "metadata": {},
   "outputs": [
    {
     "name": "stdout",
     "output_type": "stream",
     "text": [
      "[[1, 2, 3], [4, 5, 6], [7, 8, 9]]\n",
      "[[1 2 3]\n",
      " [4 5 6]\n",
      " [7 8 9]]\n",
      "[[ 3  6  9]\n",
      " [12 15 18]\n",
      " [21 24 27]]\n"
     ]
    }
   ],
   "source": [
    "liste1 = [1,2,3]\n",
    "liste2 = [4,5,6]\n",
    "liste3 = [7,8,9]\n",
    "liste = [liste1,liste2,liste3]\n",
    "print(liste)\n",
    "import numpy as np\n",
    "matris = np.array(liste)\n",
    "print(matris)\n",
    "matris *=3\n",
    "print(matris)"
   ]
  },
  {
   "cell_type": "code",
   "execution_count": null,
   "id": "14d851d6",
   "metadata": {},
   "outputs": [
    {
     "name": "stdout",
     "output_type": "stream",
     "text": [
      "(20, 10)\n",
      "20 10\n"
     ]
    }
   ],
   "source": [
    "a=10\n",
    "b=20\n",
    "paket = b,a\n",
    "print(paket)\n",
    "x,y = paket\n",
    "print(x,y)"
   ]
  },
  {
   "cell_type": "code",
   "execution_count": 80,
   "id": "3a5cc0ab",
   "metadata": {},
   "outputs": [
    {
     "name": "stdout",
     "output_type": "stream",
     "text": [
      "abc\n"
     ]
    }
   ],
   "source": [
    "metin = \"abc\"\n",
    "metin.replace(\"a\",\"e\")\n",
    "print(metin)"
   ]
  },
  {
   "cell_type": "markdown",
   "id": "213f314c",
   "metadata": {},
   "source": [
    "Kullanıcıdan girilen 10 değerin ortalamasını ve varyansını bulan uygulamayı yazınız.\n"
   ]
  },
  {
   "cell_type": "code",
   "execution_count": null,
   "id": "66403124",
   "metadata": {},
   "outputs": [
    {
     "name": "stdout",
     "output_type": "stream",
     "text": [
      "105.1\n",
      "34706.49\n",
      "105.1\n",
      "34706.49\n"
     ]
    }
   ],
   "source": [
    "liste = [7,33,20,11,6,50,81,100,88,655]\n",
    "toplam = 0\n",
    "for eleman in liste:\n",
    "    toplam += eleman\n",
    "ortalama = toplam / len(liste)\n",
    "print(ortalama)\n",
    "\n",
    "toplam = 0\n",
    "for eleman in liste:\n",
    "    toplam += pow(ortalama - eleman,2)\n",
    "\n",
    "varyans = toplam / len(liste)\n",
    "print(varyans)\n",
    "\n",
    "import numpy as np\n",
    "print(np.mean(liste))\n",
    "print(np.var(liste))"
   ]
  }
 ],
 "metadata": {
  "kernelspec": {
   "display_name": "base",
   "language": "python",
   "name": "python3"
  },
  "language_info": {
   "codemirror_mode": {
    "name": "ipython",
    "version": 3
   },
   "file_extension": ".py",
   "mimetype": "text/x-python",
   "name": "python",
   "nbconvert_exporter": "python",
   "pygments_lexer": "ipython3",
   "version": "3.13.7"
  }
 },
 "nbformat": 4,
 "nbformat_minor": 5
}
