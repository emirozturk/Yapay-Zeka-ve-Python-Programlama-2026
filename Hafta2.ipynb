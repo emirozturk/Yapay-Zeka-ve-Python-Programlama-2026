{
 "cells": [
  {
   "cell_type": "markdown",
   "id": "7eda5a5f",
   "metadata": {},
   "source": [
    "Python'da 3 temel veri türü var\n",
    "Integer\n",
    "Float\n",
    "String"
   ]
  },
  {
   "cell_type": "code",
   "execution_count": null,
   "id": "4f644f5e",
   "metadata": {},
   "outputs": [],
   "source": [
    "tamsayi_degisken = 3\n",
    "print(type(tamsayi_degisken))\n"
   ]
  },
  {
   "cell_type": "markdown",
   "id": "59c6dd0d",
   "metadata": {},
   "source": [
    "Ondalıklı değişken örneği"
   ]
  },
  {
   "cell_type": "code",
   "execution_count": null,
   "id": "2c49dcb4",
   "metadata": {},
   "outputs": [],
   "source": [
    "ondalikli_degisken = 6.23\n",
    "print(type(ondalikli_degisken))"
   ]
  },
  {
   "cell_type": "markdown",
   "id": "972650be",
   "metadata": {},
   "source": [
    "Metin verisi örneği"
   ]
  },
  {
   "cell_type": "code",
   "execution_count": 3,
   "id": "c120c925",
   "metadata": {},
   "outputs": [
    {
     "name": "stdout",
     "output_type": "stream",
     "text": [
      "<class 'str'>\n"
     ]
    }
   ],
   "source": [
    "medeni_cesareti_olan_biri = \"Mertcan Bahar\"\n",
    "print(type(medeni_cesareti_olan_biri))"
   ]
  }
 ],
 "metadata": {
  "kernelspec": {
   "display_name": "base",
   "language": "python",
   "name": "python3"
  },
  "language_info": {
   "codemirror_mode": {
    "name": "ipython",
    "version": 3
   },
   "file_extension": ".py",
   "mimetype": "text/x-python",
   "name": "python",
   "nbconvert_exporter": "python",
   "pygments_lexer": "ipython3",
   "version": "3.13.7"
  }
 },
 "nbformat": 4,
 "nbformat_minor": 5
}
