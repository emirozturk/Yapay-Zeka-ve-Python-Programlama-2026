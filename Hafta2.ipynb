{
 "cells": [
  {
   "cell_type": "markdown",
   "id": "7eda5a5f",
   "metadata": {},
   "source": [
    "Python'da 3 temel veri türü var\n",
    "Integer\n",
    "Float\n",
    "String"
   ]
  },
  {
   "cell_type": "code",
   "execution_count": 36,
   "id": "4f644f5e",
   "metadata": {},
   "outputs": [
    {
     "name": "stdout",
     "output_type": "stream",
     "text": [
      "<class 'int'>\n"
     ]
    }
   ],
   "source": [
    "tamsayi_degisken = 3\n",
    "print(type(tamsayi_degisken))\n"
   ]
  },
  {
   "cell_type": "markdown",
   "id": "59c6dd0d",
   "metadata": {},
   "source": [
    "Ondalıklı değişken örneği"
   ]
  },
  {
   "cell_type": "code",
   "execution_count": 37,
   "id": "2c49dcb4",
   "metadata": {},
   "outputs": [
    {
     "name": "stdout",
     "output_type": "stream",
     "text": [
      "<class 'float'>\n"
     ]
    }
   ],
   "source": [
    "ondalikli_degisken = 6.23\n",
    "print(type(ondalikli_degisken))"
   ]
  },
  {
   "cell_type": "markdown",
   "id": "972650be",
   "metadata": {},
   "source": [
    "Metin verisi örneği"
   ]
  },
  {
   "cell_type": "code",
   "execution_count": 38,
   "id": "c120c925",
   "metadata": {},
   "outputs": [
    {
     "name": "stdout",
     "output_type": "stream",
     "text": [
      "<class 'str'>\n"
     ]
    }
   ],
   "source": [
    "medeni_cesareti_olan_biri = \"Mertcan Bahar\"\n",
    "print(type(medeni_cesareti_olan_biri))"
   ]
  },
  {
   "cell_type": "markdown",
   "id": "a20d5c8c",
   "metadata": {},
   "source": [
    "Değişken atamalar"
   ]
  },
  {
   "cell_type": "code",
   "execution_count": 39,
   "id": "e963874d",
   "metadata": {},
   "outputs": [
    {
     "name": "stdout",
     "output_type": "stream",
     "text": [
      "3\n",
      "5.5\n"
     ]
    }
   ],
   "source": [
    "degisken1 = 3\n",
    "print(degisken1)\n",
    "degisken1 = 5.5\n",
    "print(degisken1)"
   ]
  },
  {
   "cell_type": "code",
   "execution_count": 40,
   "id": "7af74e3c",
   "metadata": {},
   "outputs": [
    {
     "name": "stdout",
     "output_type": "stream",
     "text": [
      "5\n"
     ]
    }
   ],
   "source": [
    "degisken1 = 3\n",
    "degisken2 = 5\n",
    "degisken1 = degisken2\n",
    "print(degisken1)"
   ]
  },
  {
   "cell_type": "code",
   "execution_count": 41,
   "id": "5fcf0f54",
   "metadata": {},
   "outputs": [
    {
     "name": "stdout",
     "output_type": "stream",
     "text": [
      "D1:5 D2:3\n"
     ]
    }
   ],
   "source": [
    "d1 = 3\n",
    "d2 = 5\n",
    "d3 = d1\n",
    "d1 = d2\n",
    "d2 = d3\n",
    "print(f\"D1:{d1}\",f\"D2:{d2}\")"
   ]
  },
  {
   "cell_type": "code",
   "execution_count": 42,
   "id": "89faa77c",
   "metadata": {},
   "outputs": [
    {
     "name": "stdout",
     "output_type": "stream",
     "text": [
      "D1:5 D2:3\n"
     ]
    }
   ],
   "source": [
    "d1 = 3\n",
    "d2 = 5\n",
    "d1,d2 = d2,d1\n",
    "print(f\"D1:{d1}\",f\"D2:{d2}\")"
   ]
  },
  {
   "cell_type": "code",
   "execution_count": 43,
   "id": "8d2aa94a",
   "metadata": {},
   "outputs": [
    {
     "name": "stdout",
     "output_type": "stream",
     "text": [
      "6\n"
     ]
    }
   ],
   "source": [
    "d1 = d1+1\n",
    "print(d1)"
   ]
  },
  {
   "cell_type": "markdown",
   "id": "4957f86d",
   "metadata": {},
   "source": [
    "Python özel aritmetik operatörler"
   ]
  },
  {
   "cell_type": "code",
   "execution_count": 44,
   "id": "808ac3dc",
   "metadata": {},
   "outputs": [
    {
     "name": "stdout",
     "output_type": "stream",
     "text": [
      "2.5\n"
     ]
    }
   ],
   "source": [
    "d1 = 15/6\n",
    "print(d1)"
   ]
  },
  {
   "cell_type": "code",
   "execution_count": 45,
   "id": "b01bfcd1",
   "metadata": {},
   "outputs": [
    {
     "name": "stdout",
     "output_type": "stream",
     "text": [
      "2\n"
     ]
    }
   ],
   "source": [
    "d1 = 15//6\n",
    "print(d1)"
   ]
  },
  {
   "cell_type": "code",
   "execution_count": 46,
   "id": "e5fe5723",
   "metadata": {},
   "outputs": [
    {
     "name": "stdout",
     "output_type": "stream",
     "text": [
      "27\n"
     ]
    }
   ],
   "source": [
    "d2 = 3**3\n",
    "print(d2)"
   ]
  },
  {
   "cell_type": "code",
   "execution_count": 47,
   "id": "74cd9ba2",
   "metadata": {},
   "outputs": [
    {
     "name": "stdout",
     "output_type": "stream",
     "text": [
      "<class 'str'>\n",
      "emiremir\n"
     ]
    }
   ],
   "source": [
    "sayi = input(\"Bir sayı giriniz\")\n",
    "print(type(sayi))\n",
    "sonuc = sayi * 2\n",
    "print(sonuc)"
   ]
  },
  {
   "cell_type": "code",
   "execution_count": 48,
   "id": "34cc064c",
   "metadata": {},
   "outputs": [
    {
     "name": "stdout",
     "output_type": "stream",
     "text": [
      "10\n"
     ]
    }
   ],
   "source": [
    "sayi = input(\"Bir sayı giriniz\")\n",
    "int_sayi = int(sayi)\n",
    "sonuc = int_sayi * 2\n",
    "print(sonuc)"
   ]
  },
  {
   "cell_type": "markdown",
   "id": "1d3fb99c",
   "metadata": {},
   "source": [
    "Kısaltalım"
   ]
  },
  {
   "cell_type": "code",
   "execution_count": 49,
   "id": "52410235",
   "metadata": {},
   "outputs": [
    {
     "name": "stdout",
     "output_type": "stream",
     "text": [
      "10\n"
     ]
    }
   ],
   "source": [
    "sayi = input(\"Bir sayı giriniz\")\n",
    "sayi = int(sayi)\n",
    "sonuc = sayi * 2\n",
    "print(sonuc)"
   ]
  },
  {
   "cell_type": "code",
   "execution_count": null,
   "id": "e53ecbf3",
   "metadata": {},
   "outputs": [
    {
     "name": "stdout",
     "output_type": "stream",
     "text": [
      "10\n"
     ]
    }
   ],
   "source": [
    "sayi = int(input(\"Bir sayı giriniz\"))\n",
    "sonuc = sayi * 2\n",
    "print(sonuc)"
   ]
  },
  {
   "cell_type": "code",
   "execution_count": 51,
   "id": "9cd1c90e",
   "metadata": {},
   "outputs": [
    {
     "name": "stdout",
     "output_type": "stream",
     "text": [
      "10\n"
     ]
    }
   ],
   "source": [
    "print(int(input(\"Bir sayı giriniz\")) * 2)"
   ]
  },
  {
   "cell_type": "markdown",
   "id": "b9ffc985",
   "metadata": {},
   "source": [
    "Print fonksiyonunda ayraç ve son bildirimi"
   ]
  },
  {
   "cell_type": "code",
   "execution_count": 53,
   "id": "56ee829f",
   "metadata": {},
   "outputs": [
    {
     "name": "stdout",
     "output_type": "stream",
     "text": [
      "emir 1\n",
      "melis 2\n"
     ]
    }
   ],
   "source": [
    "print(\"emir\",1)\n",
    "print(\"melis\",2)"
   ]
  },
  {
   "cell_type": "code",
   "execution_count": null,
   "id": "5b4c600f",
   "metadata": {},
   "outputs": [
    {
     "name": "stdout",
     "output_type": "stream",
     "text": [
      "emir,1\n",
      "melis 2\n"
     ]
    }
   ],
   "source": [
    "print(\"emir\",1,sep=\",\")\n",
    "print(\"melis\",2)"
   ]
  },
  {
   "cell_type": "code",
   "execution_count": 56,
   "id": "a2201f71",
   "metadata": {},
   "outputs": [
    {
     "name": "stdout",
     "output_type": "stream",
     "text": [
      "emir 1 / melis 2\n",
      "3\n"
     ]
    }
   ],
   "source": [
    "print(\"emir\",1,end=\" / \")\n",
    "print(\"melis\",2)\n",
    "print(3)"
   ]
  },
  {
   "cell_type": "code",
   "execution_count": 66,
   "id": "0c8ceadb",
   "metadata": {},
   "outputs": [
    {
     "name": "stdout",
     "output_type": "stream",
     "text": [
      "1 emir\n",
      "1 emir\n"
     ]
    }
   ],
   "source": [
    "print(str(1) + \" emir\")\n",
    "print(f\"{1} emir\")"
   ]
  },
  {
   "cell_type": "markdown",
   "id": "c210182f",
   "metadata": {},
   "source": [
    "Ekrandan girilen x değeri için 5x^2+7x-9 değerini hesaplayan uygulama\n"
   ]
  },
  {
   "cell_type": "code",
   "execution_count": null,
   "id": "7ab4cc46",
   "metadata": {},
   "outputs": [
    {
     "name": "stdout",
     "output_type": "stream",
     "text": [
      "151\n"
     ]
    }
   ],
   "source": [
    "#Önce x değerini ekrandan almam lazım\n",
    "x = int(input(\"x değerini giriniz\"))\n",
    "#aldığımız değeri hesaplayıp yeni bir sonuç değişkenine atmamız lazım\n",
    "sonuc = 5*x**2+7*x-9\n",
    "#Sonuç değişkenini ekrana yazdırmamız lazım\n",
    "print(sonuc)"
   ]
  },
  {
   "cell_type": "markdown",
   "id": "8418f901",
   "metadata": {},
   "source": [
    "Ekrandan girilen x değeri için x + x * x + x * x * x değerini ekrana gösteren uygulama"
   ]
  },
  {
   "cell_type": "code",
   "execution_count": 70,
   "id": "dc4af457",
   "metadata": {},
   "outputs": [
    {
     "name": "stdout",
     "output_type": "stream",
     "text": [
      "14\n",
      "14\n"
     ]
    }
   ],
   "source": [
    "x = int(input(\"x değerini giriniz\"))\n",
    "sonuc = x + x * x + x * x * x\n",
    "print(sonuc)\n",
    "sonuc = x + x**2 + x**3\n",
    "print(sonuc)"
   ]
  },
  {
   "cell_type": "markdown",
   "id": "ed5fe883",
   "metadata": {},
   "source": [
    "Ekrandan girilen x değerinin y değerine göre bölümünden kalanı ekrana gösteren uygulama"
   ]
  },
  {
   "cell_type": "code",
   "execution_count": null,
   "id": "59f623e6",
   "metadata": {},
   "outputs": [
    {
     "name": "stdout",
     "output_type": "stream",
     "text": [
      "x:8 y:3 ve x y'den büyük\n",
      "Çıkarma işlemi yapıldı. x'in son değeri 5\n",
      "x:5 y:3 ve x y'den büyük\n",
      "Çıkarma işlemi yapıldı. x'in son değeri 2\n",
      "2\n"
     ]
    }
   ],
   "source": [
    "#x değerini al\n",
    "x = int(input(\"x\"))\n",
    "#y değerini al\n",
    "y = int(input(\"y\"))\n",
    "#x y'den büyük olduğu sürece\n",
    "while x > y:  \n",
    "    print(f\"x:{x} y:{y} ve x y'den büyük\") \n",
    "    x = x - y     #x'ten y çıkar\n",
    "    print(f\"Çıkarma işlemi yapıldı. x'in son değeri {x}\")\n",
    "#x değerini ekrana yazdır\n",
    "print(x)"
   ]
  },
  {
   "cell_type": "code",
   "execution_count": 81,
   "id": "b1cc7936",
   "metadata": {},
   "outputs": [
    {
     "name": "stdout",
     "output_type": "stream",
     "text": [
      "1\n"
     ]
    }
   ],
   "source": [
    "x = 16\n",
    "y = 3\n",
    "print(x % y)"
   ]
  }
 ],
 "metadata": {
  "kernelspec": {
   "display_name": "base",
   "language": "python",
   "name": "python3"
  },
  "language_info": {
   "codemirror_mode": {
    "name": "ipython",
    "version": 3
   },
   "file_extension": ".py",
   "mimetype": "text/x-python",
   "name": "python",
   "nbconvert_exporter": "python",
   "pygments_lexer": "ipython3",
   "version": "3.13.7"
  }
 },
 "nbformat": 4,
 "nbformat_minor": 5
}
